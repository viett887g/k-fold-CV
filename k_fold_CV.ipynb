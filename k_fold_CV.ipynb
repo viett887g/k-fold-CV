{
  "nbformat": 4,
  "nbformat_minor": 0,
  "metadata": {
    "colab": {
      "provenance": [],
      "authorship_tag": "ABX9TyN5PuZe6xoUjmDv/4qNRZlJ",
      "include_colab_link": true
    },
    "kernelspec": {
      "name": "python3",
      "display_name": "Python 3"
    },
    "language_info": {
      "name": "python"
    }
  },
  "cells": [
    {
      "cell_type": "markdown",
      "metadata": {
        "id": "view-in-github",
        "colab_type": "text"
      },
      "source": [
        "<a href=\"https://colab.research.google.com/github/viett887g/k-fold-CV/blob/main/k_fold_CV.ipynb\" target=\"_parent\"><img src=\"https://colab.research.google.com/assets/colab-badge.svg\" alt=\"Open In Colab\"/></a>"
      ]
    },
    {
      "cell_type": "code",
      "source": [
        "import numpy as np\n",
        "import os\n",
        "from sklearn.model_selection import train_test_split\n",
        "from sklearn import preprocessing\n",
        "from sklearn.model_selection import KFold\n",
        "from sklearn.metrics import mean_squared_error"
      ],
      "metadata": {
        "id": "YRRanC8b8VbH"
      },
      "execution_count": 12,
      "outputs": []
    },
    {
      "cell_type": "code",
      "execution_count": 26,
      "metadata": {
        "id": "kmxLpd4j8Aga"
      },
      "outputs": [],
      "source": [
        "def readfile(folder, filename):\n",
        "  D = np.loadtxt(os.path.join(folder, filename), delimiter=',')\n",
        "  D = preprocessing.MinMaxScaler().fit_transform(D)\n",
        "  X, y = D[:,:-1], D[:,-1]\n",
        "  x0 = np.ones((X.shape[0], 1))\n",
        "  X = np.column_stack([x0, X])\n",
        "  X_train, X_test, y_train, y_test = train_test_split(X, y,test_size=0.30,random_state=15)\n",
        "  w_opt = np.zeros((X.shape[1], 1))\n",
        "  return X_train, X_test, y_train, y_test,w_opt"
      ]
    },
    {
      "cell_type": "code",
      "source": [
        "def computeLoss(X, y, w):\n",
        "  m = y.shape[0]\n",
        "  J = 0\n",
        "  h = np.dot(X, w)\n",
        "  J = (1/(2*m))*np.sum(np.square(h - y))\n",
        "  return J\n",
        "def gradientDescent(X, y, w, alpha, n):\n",
        "  m = y.shape[0]\n",
        "  J_history = []\n",
        "  w_optimal = w.copy()\n",
        "  for i in range(n):\n",
        "    h = np.dot(X, w_optimal)\n",
        "    error = h - y\n",
        "    w_optimal = w_optimal - (alpha/m)*np.dot(X.T, error)\n",
        "    J_history.append(computeLoss(X=X, y=y, w=w_optimal))\n",
        "  return w_optimal, J_history"
      ],
      "metadata": {
        "id": "BGY8grTP9fo-"
      },
      "execution_count": 13,
      "outputs": []
    },
    {
      "cell_type": "code",
      "source": [
        "def main():\n",
        "  X_train, X_test, y_train, y_test,w_opt = readfile(\"/content\",\"ex1data1.txt\")\n",
        "  n = 1500\n",
        "  alpha = 0.01\n",
        "  step = 0\n",
        "  kf = KFold(n_splits=10)\n",
        "  print('Huấn luyện mô hình với k-fold')\n",
        "  for train2_index, val_index in kf.split(X = X_train,y = y_train):\n",
        "    step = step + 1\n",
        "    print('\\tBước lặp huấn luyện thứ: ', step)\n",
        "    X_train2, X_val = X_train[train2_index], X_train[val_index]\n",
        "    y_train2, y_val = y_train[train2_index], y_train[val_index]\n",
        "    w_opt, J_history = gradientDescent(X=X_train2,y=y_train2.reshape((y_train2.shape[0],1)),w=w_opt, alpha=alpha, n=n)\n",
        "    print('\\t\\tĐánh giá mô hình trên tập dữ liệu validation')\n",
        "    y_hat = np.dot(X_val, w_opt)\n",
        "    print('\\t\\t\\tMSE: ', mean_squared_error(y_val, y_hat))\n",
        "    #Bước 6: Kiểm định mô hình với tập dữ liệu test\n",
        "    print('ĐÁNH GIÁ HIỆU NĂNG CỦA MÔ HÌNH TRÊN TẬP DỮ LIỆU TEST')\n",
        "    y_hat = np.dot(X_test, w_opt)\n",
        "    print('\\tMSE: ', mean_squared_error(y_test, y_hat))\n",
        "if __name__ == '__main__':\n",
        "  main()"
      ],
      "metadata": {
        "colab": {
          "base_uri": "https://localhost:8080/"
        },
        "id": "dXPlyf-o9o5e",
        "outputId": "532373fe-bd1b-48e2-d0b3-d743a167a022"
      },
      "execution_count": 28,
      "outputs": [
        {
          "output_type": "stream",
          "name": "stdout",
          "text": [
            "Huấn luyện mô hình với k-fold\n",
            "\tBước lặp huấn luyện thứ:  1\n",
            "\t\tĐánh giá mô hình trên tập dữ liệu validation\n",
            "\t\t\tMSE:  0.006772426415954324\n",
            "ĐÁNH GIÁ HIỆU NĂNG CỦA MÔ HÌNH TRÊN TẬP DỮ LIỆU TEST\n",
            "\tMSE:  0.02931800350295097\n",
            "\tBước lặp huấn luyện thứ:  2\n",
            "\t\tĐánh giá mô hình trên tập dữ liệu validation\n",
            "\t\t\tMSE:  0.008513918135827058\n",
            "ĐÁNH GIÁ HIỆU NĂNG CỦA MÔ HÌNH TRÊN TẬP DỮ LIỆU TEST\n",
            "\tMSE:  0.01847813159401255\n",
            "\tBước lặp huấn luyện thứ:  3\n",
            "\t\tĐánh giá mô hình trên tập dữ liệu validation\n",
            "\t\t\tMSE:  0.005661527911917147\n",
            "ĐÁNH GIÁ HIỆU NĂNG CỦA MÔ HÌNH TRÊN TẬP DỮ LIỆU TEST\n",
            "\tMSE:  0.013951699764181083\n",
            "\tBước lặp huấn luyện thứ:  4\n",
            "\t\tĐánh giá mô hình trên tập dữ liệu validation\n",
            "\t\t\tMSE:  0.024892156744133004\n",
            "ĐÁNH GIÁ HIỆU NĂNG CỦA MÔ HÌNH TRÊN TẬP DỮ LIỆU TEST\n",
            "\tMSE:  0.012257034246898535\n",
            "\tBước lặp huấn luyện thứ:  5\n",
            "\t\tĐánh giá mô hình trên tập dữ liệu validation\n",
            "\t\t\tMSE:  0.008228765045508188\n",
            "ĐÁNH GIÁ HIỆU NĂNG CỦA MÔ HÌNH TRÊN TẬP DỮ LIỆU TEST\n",
            "\tMSE:  0.012157613419857742\n",
            "\tBước lặp huấn luyện thứ:  6\n",
            "\t\tĐánh giá mô hình trên tập dữ liệu validation\n",
            "\t\t\tMSE:  0.011996607279132602\n",
            "ĐÁNH GIÁ HIỆU NĂNG CỦA MÔ HÌNH TRÊN TẬP DỮ LIỆU TEST\n",
            "\tMSE:  0.011546212028941431\n",
            "\tBước lặp huấn luyện thứ:  7\n",
            "\t\tĐánh giá mô hình trên tập dữ liệu validation\n",
            "\t\t\tMSE:  0.004954452512817871\n",
            "ĐÁNH GIÁ HIỆU NĂNG CỦA MÔ HÌNH TRÊN TẬP DỮ LIỆU TEST\n",
            "\tMSE:  0.011683060182206913\n",
            "\tBước lặp huấn luyện thứ:  8\n",
            "\t\tĐánh giá mô hình trên tập dữ liệu validation\n",
            "\t\t\tMSE:  0.008521245626662328\n",
            "ĐÁNH GIÁ HIỆU NĂNG CỦA MÔ HÌNH TRÊN TẬP DỮ LIỆU TEST\n",
            "\tMSE:  0.011243245115667766\n",
            "\tBước lặp huấn luyện thứ:  9\n",
            "\t\tĐánh giá mô hình trên tập dữ liệu validation\n",
            "\t\t\tMSE:  0.007900666745877128\n",
            "ĐÁNH GIÁ HIỆU NĂNG CỦA MÔ HÌNH TRÊN TẬP DỮ LIỆU TEST\n",
            "\tMSE:  0.01152735984389402\n",
            "\tBước lặp huấn luyện thứ:  10\n",
            "\t\tĐánh giá mô hình trên tập dữ liệu validation\n",
            "\t\t\tMSE:  0.058794474976609244\n",
            "ĐÁNH GIÁ HIỆU NĂNG CỦA MÔ HÌNH TRÊN TẬP DỮ LIỆU TEST\n",
            "\tMSE:  0.010838920712244359\n"
          ]
        }
      ]
    }
  ]
}